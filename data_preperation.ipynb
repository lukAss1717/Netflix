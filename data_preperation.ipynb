{
 "cells": [
  {
   "cell_type": "code",
   "execution_count": 64,
   "metadata": {},
   "outputs": [],
   "source": [
    "import pandas as pd\n",
    "import datetime "
   ]
  },
  {
   "cell_type": "code",
   "execution_count": 65,
   "metadata": {},
   "outputs": [],
   "source": [
    "netflix_df = pd.read_csv('netflix_titles.csv', parse_dates=['date_added'])"
   ]
  },
  {
   "cell_type": "code",
   "execution_count": 66,
   "metadata": {},
   "outputs": [],
   "source": [
    "netflix_df['country'] = netflix_df['country'].fillna(netflix_df['country'].mode()[0])\n",
    "netflix_df = netflix_df.dropna(subset=['date_added', 'rating', 'duration'])"
   ]
  },
  {
   "cell_type": "code",
   "execution_count": 67,
   "metadata": {},
   "outputs": [],
   "source": [
    "age_mapping = {'TV-MA': 'R', 'TV-14': 'PG-13', 'TV-PG': 'PG', 'TV-Y': 'PG', 'TV-Y7':'PG',\n",
    "       'TV-G':'G', 'TV-Y7-FV': 'PG', 'UR':'NR'}\n",
    "netflix_df['rating'] = netflix_df.rating.apply(lambda x: age_mapping[x] if x in age_mapping else x)"
   ]
  },
  {
   "cell_type": "code",
   "execution_count": 68,
   "metadata": {},
   "outputs": [],
   "source": [
    "netflix_df['duration_t'] = netflix_df['duration'].str.extract('(\\d+)').astype(int)\n",
    "today = netflix_df.date_added.max()\n",
    "one_year_ago = pd.to_datetime(today.replace(year=today.year - 1))\n",
    "netflix_df['date_added_dt'] = pd.to_datetime(netflix_df['date_added'])\n",
    "last_year_df = netflix_df[netflix_df['date_added_dt'] < one_year_ago]\n",
    "netflix_df['year_nf'] = netflix_df['date_added'].dt.year"
   ]
  },
  {
   "cell_type": "code",
   "execution_count": 69,
   "metadata": {},
   "outputs": [],
   "source": [
    "series_tmbd_df = pd.read_csv('series_tmdb_data.csv')\n",
    "movies_tmbd_df = pd.read_csv('movie_tmdb_data.csv')"
   ]
  },
  {
   "cell_type": "code",
   "execution_count": 70,
   "metadata": {},
   "outputs": [],
   "source": [
    "nf_tmdb_series = pd.merge(netflix_df, series_tmbd_df, left_on=\"title\", right_on=\"netflix_title\", how='left')\n",
    "nf_tmdb = pd.merge(nf_tmdb_series, movies_tmbd_df, left_on='title', right_on='netflix_title', how='left')"
   ]
  },
  {
   "cell_type": "code",
   "execution_count": 71,
   "metadata": {},
   "outputs": [],
   "source": [
    "columns_to_fill = [value for value in nf_tmdb.columns if '_y' in value][1:]\n",
    "columns_to_use = [value for value in nf_tmdb.columns if '_x' in value]\n",
    "for column in columns_to_fill:\n",
    "    nf_tmdb[column] = nf_tmdb[column].fillna(nf_tmdb[column[:-2] + '_x'])\n",
    "nf_tmdb = nf_tmdb.drop([col for col in columns_to_use], axis=1)\n",
    "nf_tmdb = nf_tmdb.rename(columns={col: col[:-2] for col in columns_to_fill})"
   ]
  },
  {
   "cell_type": "code",
   "execution_count": 72,
   "metadata": {},
   "outputs": [],
   "source": [
    "nf_tmdb = nf_tmdb.drop([\"Unnamed: 0\", \"adult\", \"origin_country\", \"original_name\", \"first_air_date\",\n",
    "            \"name\",\"genre_ids\",\"id\",\"original_language\",\"original_title\",\"overview\",\"release_date\",\"video\", \"title\"], axis=1)\n"
   ]
  },
  {
   "cell_type": "code",
   "execution_count": 73,
   "metadata": {},
   "outputs": [],
   "source": [
    "binary_country= nf_tmdb['country'].str.get_dummies(sep=',')\n",
    "nf_tmdb = nf_tmdb.join(binary_country) \n"
   ]
  },
  {
   "cell_type": "code",
   "execution_count": 74,
   "metadata": {},
   "outputs": [],
   "source": [
    "nf_tmdb['genre'] =nf_tmdb['listed_in'].apply(lambda x :  x.replace(' ,',',').replace(', ',',').split(',')) \n",
    "all_genre = list(); \n",
    "for i in range(nf_tmdb.shape[0]): \n",
    "    for index, j in enumerate(nf_tmdb.iloc[i].genre): \n",
    "        all_genre.append(nf_tmdb.iloc[i].genre[index])\n",
    "nf_tmdb.genre = [','.join(map(str, l)) for l in nf_tmdb['genre']]\n",
    "binary_genre =nf_tmdb['genre'].str.get_dummies(sep=',')\n",
    "nf_tmdb =nf_tmdb.join(binary_genre) "
   ]
  },
  {
   "cell_type": "code",
   "execution_count": 75,
   "metadata": {},
   "outputs": [],
   "source": [
    "nf_tmdb.to_csv('prepared_netflix.csv', sep='\\t', encoding='utf-8', index = False)"
   ]
  }
 ],
 "metadata": {
  "kernelspec": {
   "display_name": "Python 3.11.3 ('netflix')",
   "language": "python",
   "name": "python3"
  },
  "language_info": {
   "codemirror_mode": {
    "name": "ipython",
    "version": 3
   },
   "file_extension": ".py",
   "mimetype": "text/x-python",
   "name": "python",
   "nbconvert_exporter": "python",
   "pygments_lexer": "ipython3",
   "version": "3.11.3"
  },
  "orig_nbformat": 4,
  "vscode": {
   "interpreter": {
    "hash": "ffc00bca12928e283f0404b013bed955f8713c4532b66eea0750c26f6cff6d5b"
   }
  }
 },
 "nbformat": 4,
 "nbformat_minor": 2
}
